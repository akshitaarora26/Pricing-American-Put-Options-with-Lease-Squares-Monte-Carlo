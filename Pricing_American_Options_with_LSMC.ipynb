{
  "nbformat": 4,
  "nbformat_minor": 0,
  "metadata": {
    "colab": {
      "provenance": []
    },
    "kernelspec": {
      "name": "python3",
      "display_name": "Python 3"
    },
    "accelerator": "GPU",
    "gpuClass": "standard"
  },
  "cells": [
    {
      "cell_type": "markdown",
      "source": [
        "# Description\n",
        "  In this problem we will use apply the Least Squares Monte Carlo method to price American put options.\n",
        "\n",
        "  \n",
        "One of the ways we can use linear regression to fit nonlinear functions is to use polynomial features. A common choice in many applications is to use the so called ``Chebyshev polynomials''. Chebyshev polynomials are defined recursively by:\n",
        "\n",
        "\\begin{equation}\n",
        "T_0(x) = 1\\\\\n",
        "T_1(x) = x\\\\\n",
        "T_{n + 1}(x)  =  2 x T_n(x) - T_{n - 1}(x)\\\\\n",
        "\\end{equation}\n"
      ],
      "metadata": {
        "id": "UNMPZrw6ucMH"
      }
    },
    {
      "cell_type": "code",
      "source": [
        "import jax.numpy as jnp\n",
        "import jax.random as random\n",
        "\n",
        "# Data\n",
        "σ = 0.04\n",
        "r = 0.01\n",
        "K = 35\n",
        "\n",
        "# Design choice\n",
        "dt = 0.01\n",
        "m = 100\n",
        "\n",
        "\n",
        "def simulate():\n",
        "  key = random.PRNGKey(0)\n",
        "\n",
        "  def step(S, key):\n",
        "    key, subkey = random.split(key)\n",
        "    dZ = random.normal(subkey, shape=S.shape) * jnp.sqrt(dt)\n",
        "    dS = r * S  * dt + σ  * S  * dZ\n",
        "    S = S + dS\n",
        "    return S, key\n",
        "\n",
        "  S0 = np.ones(20000)\n",
        "  S = S0\n",
        "  S_list = []\n",
        "\n",
        "  for t in range(m):\n",
        "    S, key = step(S, key)\n",
        "    S_list.append(S)\n",
        "\n",
        "  S_array = jnp.stack(S_list)\n",
        "  return S_array\n"
      ],
      "metadata": {
        "id": "D6VdC2QZduv9"
      },
      "execution_count": null,
      "outputs": []
    },
    {
      "cell_type": "markdown",
      "source": [
        "### Jit compiled version of the simulate function"
      ],
      "metadata": {
        "id": "-sYIUZ1QfF-i"
      }
    },
    {
      "cell_type": "code",
      "source": [
        "import jax\n",
        "import jax.numpy as jnp\n",
        "import jax.random as random\n",
        "\n",
        "# Parameters\n",
        "σ = 0.04\n",
        "r = 0.01\n",
        "K = 35\n",
        "\n",
        "# Design choice\n",
        "dt = 0.01\n",
        "m = 100\n",
        "\n",
        "@jax.jit\n",
        "def simulate():\n",
        "    key = random.PRNGKey(0)\n",
        "\n",
        "    def step(S, key):\n",
        "        key, subkey = random.split(key)\n",
        "        dZ = random.normal(subkey, shape=S.shape) * jnp.sqrt(dt)\n",
        "        dS = r * S * dt + σ * S * dZ\n",
        "        S = S + dS\n",
        "        return S, key\n",
        "\n",
        "    # Initial state\n",
        "    S0 = jnp.ones(20000)  # Initial prices for 20,000 assets\n",
        "\n",
        "    # Define the scan function to iterate over time steps\n",
        "    def scan_fn(S, key):\n",
        "        S, key = step(S, key)\n",
        "        return S, S\n",
        "\n",
        "    # Run the simulation using lax.scan\n",
        "    S_array, _ = jax.lax.scan(scan_fn, S0, jnp.arange(m))\n",
        "    return S_array\n"
      ],
      "metadata": {
        "id": "XBL7PDJI4sD_"
      },
      "execution_count": null,
      "outputs": []
    },
    {
      "cell_type": "markdown",
      "source": [
        "### The code below computes the price of an American Put option using Least Squares Monte Carlo (LSMC)."
      ],
      "metadata": {
        "id": "YdCFrHUafwBh"
      }
    },
    {
      "cell_type": "code",
      "source": [
        "import jax\n",
        "import jax.numpy as jnp\n",
        "from jax import jit, vmap\n",
        "from functools import partial\n",
        "\n",
        "Spot, σ, K, r = 36, 0.2, 40, 0.06\n",
        "n, m, T, order = 100000, 50, 1, 12\n",
        "Δt = T / m\n",
        "\n",
        "@partial(jit, static_argnums=(1,))\n",
        "def chebyshev_basis(x, k):\n",
        "    B = [jnp.ones_like(x), x]\n",
        "    for n in range(2, k):\n",
        "        B.append(2 * x * B[-1] - B[-2])\n",
        "    return jnp.column_stack(B)\n",
        "\n",
        "@jit\n",
        "def scale(x):\n",
        "    xmin, xmax = x.min(), x.max()\n",
        "    a = 2 / (xmax - xmin)\n",
        "    return a * x + (1 - a * xmax)\n",
        "\n",
        "@jit\n",
        "def step(S, key):\n",
        "    dB = jnp.sqrt(Δt) * jax.random.normal(key, S.shape)\n",
        "    return S * (1 + r * Δt + σ * dB)\n",
        "\n",
        "@jit\n",
        "def payoff_put(S):\n",
        "    return jnp.maximum(K - S, 0.)\n",
        "\n",
        "@jit\n",
        "def compute_price():\n",
        "    key = jax.random.PRNGKey(0)\n",
        "    S = Spot * jnp.ones(n)\n",
        "\n",
        "    keys = jax.random.split(key, m)\n",
        "    S = jax.lax.scan(lambda s, k: (step(s, k), s), S, keys)[1]\n",
        "\n",
        "    discount = jnp.exp(-r * Δt)\n",
        "    discounted_future_cashflows = payoff_put(S[-1]) * discount\n",
        "\n",
        "    def backward_step(carry, S_t):\n",
        "        X = chebyshev_basis(scale(S_t), order)\n",
        "        Θ = jnp.linalg.solve(X.T @ X, X.T @ carry)\n",
        "        value_if_wait = X @ Θ\n",
        "        value_if_exercise = payoff_put(S_t)\n",
        "        exercise = value_if_exercise >= value_if_wait\n",
        "        return jnp.where(exercise, value_if_exercise, carry) * discount, None\n",
        "\n",
        "    discounted_future_cashflows, _ = jax.lax.scan(\n",
        "        backward_step, discounted_future_cashflows, S[-2::-1])\n",
        "\n",
        "    return discounted_future_cashflows.mean()\n",
        "\n",
        "print(compute_price())"
      ],
      "metadata": {
        "colab": {
          "base_uri": "https://localhost:8080/"
        },
        "id": "w539_qu_fFaf",
        "outputId": "b77b71bb-a544-472b-b0c7-629d18b30387"
      },
      "execution_count": null,
      "outputs": [
        {
          "output_type": "stream",
          "name": "stdout",
          "text": [
            "4.463316\n"
          ]
        }
      ]
    }
  ]
}